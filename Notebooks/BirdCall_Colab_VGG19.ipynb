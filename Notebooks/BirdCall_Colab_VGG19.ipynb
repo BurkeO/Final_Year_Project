{
  "nbformat": 4,
  "nbformat_minor": 0,
  "metadata": {
    "accelerator": "GPU",
    "colab": {
      "name": "BirdCall_Colab_VGG19",
      "provenance": [],
      "collapsed_sections": [],
      "machine_shape": "hm"
    },
    "kernelspec": {
      "display_name": "Python 3",
      "name": "python3"
    }
  },
  "cells": [
    {
      "cell_type": "markdown",
      "metadata": {
        "id": "Pq_2C8CBOXl7"
      },
      "source": [
        "Mount Google Drive Account"
      ]
    },
    {
      "cell_type": "code",
      "metadata": {
        "colab": {
          "base_uri": "https://localhost:8080/"
        },
        "id": "fCIFxz7ohAFw",
        "outputId": "d3c4df7b-11bc-4a7b-d0f7-6729dbd1207d"
      },
      "source": [
        "from google.colab import drive\n",
        "drive.mount('/content/gdrive')\n",
        "from pathlib import Path\n",
        "import os\n",
        "import cv2"
      ],
      "execution_count": null,
      "outputs": [
        {
          "output_type": "stream",
          "text": [
            "Drive already mounted at /content/gdrive; to attempt to forcibly remount, call drive.mount(\"/content/gdrive\", force_remount=True).\n"
          ],
          "name": "stdout"
        }
      ]
    },
    {
      "cell_type": "markdown",
      "metadata": {
        "id": "J1oc5KrQiPGC"
      },
      "source": [
        "Install tensorflow"
      ]
    },
    {
      "cell_type": "code",
      "metadata": {
        "id": "OAd_J7-kiPdO"
      },
      "source": [
        "import tensorflow as tf\n",
        "\n",
        "import os\n",
        "import numpy as np\n",
        "import matplotlib.pyplot as plt\n",
        "\n",
        "from numpy.random import seed\n",
        "seed(1)\n",
        "tf.random.set_seed(2)"
      ],
      "execution_count": null,
      "outputs": []
    },
    {
      "cell_type": "code",
      "metadata": {
        "colab": {
          "base_uri": "https://localhost:8080/"
        },
        "id": "YG8NxbcriZjl",
        "outputId": "5a5a81cd-297c-4e97-87b9-bc073fb958bc"
      },
      "source": [
        "print(tf.__version__)\n",
        "print(tf.config.list_physical_devices())\n",
        "print(tf.config.list_physical_devices('GPU'))"
      ],
      "execution_count": null,
      "outputs": [
        {
          "output_type": "stream",
          "text": [
            "2.4.1\n",
            "[PhysicalDevice(name='/physical_device:CPU:0', device_type='CPU'), PhysicalDevice(name='/physical_device:GPU:0', device_type='GPU')]\n",
            "[PhysicalDevice(name='/physical_device:GPU:0', device_type='GPU')]\n"
          ],
          "name": "stdout"
        }
      ]
    },
    {
      "cell_type": "markdown",
      "metadata": {
        "id": "q-MyLYDjieEa"
      },
      "source": [
        "Point to training data"
      ]
    },
    {
      "cell_type": "code",
      "metadata": {
        "id": "Te422DEWigf4"
      },
      "source": [
        "base_dir = '/content/gdrive/MyDrive/FYP/Consistent_dataset/Augmented_train_images'"
      ],
      "execution_count": null,
      "outputs": []
    },
    {
      "cell_type": "markdown",
      "metadata": {
        "id": "36yoL5jRiovR"
      },
      "source": [
        "Generate training and validation data"
      ]
    },
    {
      "cell_type": "code",
      "metadata": {
        "colab": {
          "base_uri": "https://localhost:8080/"
        },
        "id": "oK1jGHPOio7q",
        "outputId": "0f22c834-d5a0-49c2-b009-4d9e37a6cc5b"
      },
      "source": [
        "IMAGE_SIZE = 224\n",
        "BATCH_SIZE = 32\n",
        "\n",
        "# datagen = tf.keras.preprocessing.image.ImageDataGenerator(\n",
        "#     rescale=1./255, \n",
        "#     validation_split=0.2)\n",
        "datagen = tf.keras.preprocessing.image.ImageDataGenerator(\n",
        "    rescale=1./255, \n",
        "    validation_split=0)\n",
        "\n",
        "\n",
        "\n",
        "train_generator = datagen.flow_from_directory(\n",
        "    \"/content/gdrive/MyDrive/FYP/Consistent_dataset/Augmented_train_images\",\n",
        "    seed=123,\n",
        "    target_size=(IMAGE_SIZE, IMAGE_SIZE),\n",
        "    batch_size=BATCH_SIZE, \n",
        "    subset='training')\n",
        "\n",
        "# train_generator = datagen.flow_from_directory(\n",
        "#     base_dir,\n",
        "#     seed=123,\n",
        "#     target_size=(IMAGE_SIZE, IMAGE_SIZE),\n",
        "#     batch_size=BATCH_SIZE, \n",
        "#     subset='training')\n",
        "\n",
        "\n",
        "val_generator = datagen.flow_from_directory(\n",
        "    \"/content/gdrive/MyDrive/FYP/Consistent_dataset/validation_full_images\",\n",
        "    seed=123,\n",
        "    target_size=(IMAGE_SIZE, IMAGE_SIZE),\n",
        "    batch_size=BATCH_SIZE, \n",
        "    subset='training')\n",
        "\n",
        "\n",
        "# val_generator = datagen.flow_from_directory(\n",
        "#     base_dir,\n",
        "#     seed=123,\n",
        "#     target_size=(IMAGE_SIZE, IMAGE_SIZE),\n",
        "#     batch_size=BATCH_SIZE, \n",
        "#     subset='validation')"
      ],
      "execution_count": null,
      "outputs": [
        {
          "output_type": "stream",
          "text": [
            "Found 3036 images belonging to 6 classes.\n",
            "Found 22 images belonging to 6 classes.\n"
          ],
          "name": "stdout"
        }
      ]
    },
    {
      "cell_type": "code",
      "metadata": {
        "colab": {
          "base_uri": "https://localhost:8080/"
        },
        "id": "SPpb3mXIitZV",
        "outputId": "be366c29-01f7-4636-8d5a-cebc0f49d201"
      },
      "source": [
        "for image_batch, label_batch in train_generator:\n",
        "  break\n",
        "image_batch.shape, label_batch.shape"
      ],
      "execution_count": null,
      "outputs": [
        {
          "output_type": "execute_result",
          "data": {
            "text/plain": [
              "((32, 224, 224, 3), (32, 6))"
            ]
          },
          "metadata": {
            "tags": []
          },
          "execution_count": 21
        }
      ]
    },
    {
      "cell_type": "markdown",
      "metadata": {
        "id": "FPK9LNS4iwWQ"
      },
      "source": [
        "Save the labels in a file which will be downloaded later."
      ]
    },
    {
      "cell_type": "code",
      "metadata": {
        "colab": {
          "base_uri": "https://localhost:8080/"
        },
        "id": "5HYLPG14iyNk",
        "outputId": "6bcc5065-c049-4ebd-d90a-6f77514ee7be"
      },
      "source": [
        "print (train_generator.class_indices)\n",
        "\n",
        "labels = '\\n'.join(sorted(train_generator.class_indices.keys()))\n",
        "\n",
        "number_of_classes = len(sorted(train_generator.class_indices.keys()))\n",
        "\n",
        "with open('labels.txt', 'w') as f:\n",
        "  f.write(labels)"
      ],
      "execution_count": null,
      "outputs": [
        {
          "output_type": "stream",
          "text": [
            "{'Atlantic_Puffin': 0, 'Eurasian_Bittern': 1, 'European_Nightjar': 2, 'Northern_Raven': 3, 'Red-throated_Loon': 4, 'Tui': 5}\n"
          ],
          "name": "stdout"
        }
      ]
    },
    {
      "cell_type": "code",
      "metadata": {
        "colab": {
          "base_uri": "https://localhost:8080/"
        },
        "id": "yykFM1wiizk_",
        "outputId": "69a6956f-f9e2-4d8d-b765-87c093078a52"
      },
      "source": [
        "!cat labels.txt"
      ],
      "execution_count": null,
      "outputs": [
        {
          "output_type": "stream",
          "text": [
            "Atlantic_Puffin\n",
            "Eurasian_Bittern\n",
            "European_Nightjar\n",
            "Northern_Raven\n",
            "Red-throated_Loon\n",
            "Tui"
          ],
          "name": "stdout"
        }
      ]
    },
    {
      "cell_type": "markdown",
      "metadata": {
        "id": "mHWz5yzmi30L"
      },
      "source": [
        "###  Create the model"
      ]
    },
    {
      "cell_type": "code",
      "metadata": {
        "id": "W74oim3Pi6Gd"
      },
      "source": [
        "IMG_SHAPE = (IMAGE_SIZE, IMAGE_SIZE, 3)\n",
        "\n",
        "base_model = tf.keras.applications.VGG19(input_shape=IMG_SHAPE, include_top=False)"
      ],
      "execution_count": null,
      "outputs": []
    },
    {
      "cell_type": "code",
      "metadata": {
        "id": "5zEqxirai_a-"
      },
      "source": [
        "base_model.trainable = False"
      ],
      "execution_count": null,
      "outputs": []
    },
    {
      "cell_type": "code",
      "metadata": {
        "id": "e3Cogjx9jAr0"
      },
      "source": [
        "model = tf.keras.Sequential([\n",
        "  base_model,\n",
        "  tf.keras.layers.Conv2D(32, 3, activation='relu'),\n",
        "  tf.keras.layers.Dropout(0.2),\n",
        "  tf.keras.layers.GlobalAveragePooling2D(),\n",
        "  tf.keras.layers.Dense(number_of_classes, activation='softmax')\n",
        "])"
      ],
      "execution_count": null,
      "outputs": []
    },
    {
      "cell_type": "code",
      "metadata": {
        "id": "dg7LVEOnjCHX"
      },
      "source": [
        "model.compile(optimizer=tf.keras.optimizers.Adam(), \n",
        "              loss='categorical_crossentropy', \n",
        "              metrics=['accuracy'])"
      ],
      "execution_count": null,
      "outputs": []
    },
    {
      "cell_type": "code",
      "metadata": {
        "colab": {
          "base_uri": "https://localhost:8080/"
        },
        "id": "eK1wb1IKjDrv",
        "outputId": "6e7952f3-3510-45a3-c21b-9a068ad282a7"
      },
      "source": [
        "model.summary()"
      ],
      "execution_count": null,
      "outputs": [
        {
          "output_type": "stream",
          "text": [
            "Model: \"sequential_1\"\n",
            "_________________________________________________________________\n",
            "Layer (type)                 Output Shape              Param #   \n",
            "=================================================================\n",
            "vgg19 (Functional)           (None, 7, 7, 512)         20024384  \n",
            "_________________________________________________________________\n",
            "conv2d_1 (Conv2D)            (None, 5, 5, 32)          147488    \n",
            "_________________________________________________________________\n",
            "dropout_1 (Dropout)          (None, 5, 5, 32)          0         \n",
            "_________________________________________________________________\n",
            "global_average_pooling2d_1 ( (None, 32)                0         \n",
            "_________________________________________________________________\n",
            "dense_1 (Dense)              (None, 6)                 198       \n",
            "=================================================================\n",
            "Total params: 20,172,070\n",
            "Trainable params: 147,686\n",
            "Non-trainable params: 20,024,384\n",
            "_________________________________________________________________\n"
          ],
          "name": "stdout"
        }
      ]
    },
    {
      "cell_type": "code",
      "metadata": {
        "colab": {
          "base_uri": "https://localhost:8080/"
        },
        "id": "JC_6_hEtjE8T",
        "outputId": "81a8d208-45af-4b66-c1ba-4e4aff5e686a"
      },
      "source": [
        "print('Number of trainable variables = {}'.format(len(model.trainable_variables)))"
      ],
      "execution_count": null,
      "outputs": [
        {
          "output_type": "stream",
          "text": [
            "Number of trainable variables = 4\n"
          ],
          "name": "stdout"
        }
      ]
    },
    {
      "cell_type": "markdown",
      "metadata": {
        "id": "HGEntP_pOtOU"
      },
      "source": [
        "Train the initial model"
      ]
    },
    {
      "cell_type": "code",
      "metadata": {
        "colab": {
          "base_uri": "https://localhost:8080/"
        },
        "id": "cvht_xtbjGa6",
        "outputId": "b3e926bb-8471-46b9-f066-3e642b337c30"
      },
      "source": [
        "from keras.callbacks import EarlyStopping, ModelCheckpoint\n",
        "from keras.models import load_model\n",
        "from sys import maxsize\n",
        "\n",
        "epochs = 20\n",
        "\n",
        "history = model.fit(train_generator, \n",
        "                    steps_per_epoch=len(train_generator), \n",
        "                    epochs=epochs, \n",
        "                    validation_data=val_generator, \n",
        "                    validation_steps=len(val_generator))"
      ],
      "execution_count": null,
      "outputs": [
        {
          "output_type": "stream",
          "text": [
            "Epoch 1/20\n",
            "95/95 [==============================] - 1642s 17s/step - loss: 1.7028 - accuracy: 0.3076 - val_loss: 1.5367 - val_accuracy: 0.4091\n",
            "Epoch 2/20\n",
            "95/95 [==============================] - 50s 523ms/step - loss: 1.3839 - accuracy: 0.4979 - val_loss: 1.3436 - val_accuracy: 0.5909\n",
            "Epoch 3/20\n",
            "95/95 [==============================] - 50s 525ms/step - loss: 1.1760 - accuracy: 0.5946 - val_loss: 1.2332 - val_accuracy: 0.5455\n",
            "Epoch 4/20\n",
            "95/95 [==============================] - 50s 528ms/step - loss: 1.0255 - accuracy: 0.6474 - val_loss: 1.1143 - val_accuracy: 0.6364\n",
            "Epoch 5/20\n",
            "95/95 [==============================] - 50s 525ms/step - loss: 0.9143 - accuracy: 0.6904 - val_loss: 1.1652 - val_accuracy: 0.5909\n",
            "Epoch 6/20\n",
            "95/95 [==============================] - 50s 526ms/step - loss: 0.8302 - accuracy: 0.7210 - val_loss: 1.1009 - val_accuracy: 0.6364\n",
            "Epoch 7/20\n",
            "95/95 [==============================] - 50s 527ms/step - loss: 0.7505 - accuracy: 0.7587 - val_loss: 1.0514 - val_accuracy: 0.5000\n",
            "Epoch 8/20\n",
            "95/95 [==============================] - 50s 527ms/step - loss: 0.6823 - accuracy: 0.7995 - val_loss: 0.9992 - val_accuracy: 0.5909\n",
            "Epoch 9/20\n",
            "95/95 [==============================] - 50s 524ms/step - loss: 0.6219 - accuracy: 0.8115 - val_loss: 0.8873 - val_accuracy: 0.6364\n",
            "Epoch 10/20\n",
            "95/95 [==============================] - 50s 523ms/step - loss: 0.5971 - accuracy: 0.8153 - val_loss: 0.8770 - val_accuracy: 0.6364\n",
            "Epoch 11/20\n",
            "95/95 [==============================] - 50s 524ms/step - loss: 0.5367 - accuracy: 0.8375 - val_loss: 0.9632 - val_accuracy: 0.6364\n",
            "Epoch 12/20\n",
            "95/95 [==============================] - 49s 518ms/step - loss: 0.5095 - accuracy: 0.8403 - val_loss: 0.9688 - val_accuracy: 0.6818\n",
            "Epoch 13/20\n",
            "95/95 [==============================] - 50s 523ms/step - loss: 0.4840 - accuracy: 0.8484 - val_loss: 0.9572 - val_accuracy: 0.5000\n",
            "Epoch 14/20\n",
            "95/95 [==============================] - 50s 526ms/step - loss: 0.4557 - accuracy: 0.8510 - val_loss: 0.8109 - val_accuracy: 0.7727\n",
            "Epoch 15/20\n",
            "95/95 [==============================] - 51s 533ms/step - loss: 0.4636 - accuracy: 0.8538 - val_loss: 0.8692 - val_accuracy: 0.5909\n",
            "Epoch 16/20\n",
            "95/95 [==============================] - 50s 530ms/step - loss: 0.4146 - accuracy: 0.8721 - val_loss: 0.9080 - val_accuracy: 0.6364\n",
            "Epoch 17/20\n",
            "95/95 [==============================] - 50s 525ms/step - loss: 0.4175 - accuracy: 0.8603 - val_loss: 0.9189 - val_accuracy: 0.6364\n",
            "Epoch 18/20\n",
            "95/95 [==============================] - 51s 532ms/step - loss: 0.4172 - accuracy: 0.8618 - val_loss: 0.7696 - val_accuracy: 0.6364\n",
            "Epoch 19/20\n",
            "95/95 [==============================] - 51s 534ms/step - loss: 0.3638 - accuracy: 0.8883 - val_loss: 0.8403 - val_accuracy: 0.5000\n",
            "Epoch 20/20\n",
            "95/95 [==============================] - 50s 526ms/step - loss: 0.3617 - accuracy: 0.8811 - val_loss: 0.7441 - val_accuracy: 0.7273\n"
          ],
          "name": "stdout"
        }
      ]
    },
    {
      "cell_type": "markdown",
      "metadata": {
        "id": "-TsIZQNpY94O"
      },
      "source": [
        "Fine tuning"
      ]
    },
    {
      "cell_type": "code",
      "metadata": {
        "colab": {
          "base_uri": "https://localhost:8080/"
        },
        "id": "-IO-_oZfY9bv",
        "outputId": "63343341-5c62-4ed9-be3e-16910b65c7ad"
      },
      "source": [
        "base_model.trainable = True\n",
        "\n",
        "print(\"Number of layers in the base model: \", len(base_model.layers))\n",
        "\n",
        "model.compile(loss='categorical_crossentropy',\n",
        "              optimizer = tf.keras.optimizers.Adam(1e-5),\n",
        "              metrics=['accuracy'])\n",
        "\n",
        "model.summary()\n",
        "print('Number of trainable variables = {}'.format(len(model.trainable_variables)))"
      ],
      "execution_count": null,
      "outputs": [
        {
          "output_type": "stream",
          "text": [
            "Number of layers in the base model:  22\n",
            "Model: \"sequential_1\"\n",
            "_________________________________________________________________\n",
            "Layer (type)                 Output Shape              Param #   \n",
            "=================================================================\n",
            "vgg19 (Functional)           (None, 7, 7, 512)         20024384  \n",
            "_________________________________________________________________\n",
            "conv2d_1 (Conv2D)            (None, 5, 5, 32)          147488    \n",
            "_________________________________________________________________\n",
            "dropout_1 (Dropout)          (None, 5, 5, 32)          0         \n",
            "_________________________________________________________________\n",
            "global_average_pooling2d_1 ( (None, 32)                0         \n",
            "_________________________________________________________________\n",
            "dense_1 (Dense)              (None, 6)                 198       \n",
            "=================================================================\n",
            "Total params: 20,172,070\n",
            "Trainable params: 20,172,070\n",
            "Non-trainable params: 0\n",
            "_________________________________________________________________\n",
            "Number of trainable variables = 36\n"
          ],
          "name": "stdout"
        }
      ]
    },
    {
      "cell_type": "code",
      "metadata": {
        "id": "95qC6x1kZLwp",
        "colab": {
          "base_uri": "https://localhost:8080/"
        },
        "outputId": "1851dac4-2c38-4507-83cc-d4c032c08556"
      },
      "source": [
        "epochs = 30\n",
        "early_stop = EarlyStopping(monitor=\"val_accuracy\", mode=\"max\", verbose=1, min_delta=0.01, patience=epochs, restore_best_weights=True)\n",
        "\n",
        "history_fine = model.fit(train_generator, \n",
        "                         steps_per_epoch=len(train_generator), \n",
        "                         epochs=epochs, \n",
        "                         validation_data=val_generator, \n",
        "                         validation_steps=len(val_generator), callbacks=[early_stop])"
      ],
      "execution_count": null,
      "outputs": [
        {
          "output_type": "stream",
          "text": [
            "Epoch 1/30\n",
            "95/95 [==============================] - 52s 536ms/step - loss: 0.3965 - accuracy: 0.8660 - val_loss: 0.8952 - val_accuracy: 0.6364\n",
            "Epoch 2/30\n",
            "95/95 [==============================] - 51s 539ms/step - loss: 0.1610 - accuracy: 0.9469 - val_loss: 0.9025 - val_accuracy: 0.7273\n",
            "Epoch 3/30\n",
            "95/95 [==============================] - 51s 540ms/step - loss: 0.1043 - accuracy: 0.9660 - val_loss: 0.8846 - val_accuracy: 0.7727\n",
            "Epoch 4/30\n",
            "95/95 [==============================] - 51s 537ms/step - loss: 0.0587 - accuracy: 0.9804 - val_loss: 0.7442 - val_accuracy: 0.7273\n",
            "Epoch 5/30\n",
            "95/95 [==============================] - 51s 532ms/step - loss: 0.0603 - accuracy: 0.9799 - val_loss: 1.0557 - val_accuracy: 0.7273\n",
            "Epoch 6/30\n",
            "95/95 [==============================] - 51s 534ms/step - loss: 0.0495 - accuracy: 0.9824 - val_loss: 1.9527 - val_accuracy: 0.5455\n",
            "Epoch 7/30\n",
            "95/95 [==============================] - 51s 531ms/step - loss: 0.0419 - accuracy: 0.9866 - val_loss: 0.8253 - val_accuracy: 0.7273\n",
            "Epoch 8/30\n",
            "95/95 [==============================] - 52s 546ms/step - loss: 0.0290 - accuracy: 0.9897 - val_loss: 1.9197 - val_accuracy: 0.5909\n",
            "Epoch 9/30\n",
            "95/95 [==============================] - 51s 529ms/step - loss: 0.0387 - accuracy: 0.9871 - val_loss: 1.6325 - val_accuracy: 0.6818\n",
            "Epoch 10/30\n",
            "95/95 [==============================] - 51s 533ms/step - loss: 0.0261 - accuracy: 0.9915 - val_loss: 1.0890 - val_accuracy: 0.6818\n",
            "Epoch 11/30\n",
            "95/95 [==============================] - 55s 572ms/step - loss: 0.0172 - accuracy: 0.9940 - val_loss: 0.9026 - val_accuracy: 0.8182\n",
            "Epoch 12/30\n",
            "95/95 [==============================] - 53s 560ms/step - loss: 0.0167 - accuracy: 0.9939 - val_loss: 1.6422 - val_accuracy: 0.5909\n",
            "Epoch 13/30\n",
            "95/95 [==============================] - 51s 538ms/step - loss: 0.0116 - accuracy: 0.9971 - val_loss: 1.3376 - val_accuracy: 0.8636\n",
            "Epoch 14/30\n",
            "95/95 [==============================] - 51s 539ms/step - loss: 0.0512 - accuracy: 0.9828 - val_loss: 0.8668 - val_accuracy: 0.7727\n",
            "Epoch 15/30\n",
            "95/95 [==============================] - 51s 532ms/step - loss: 0.0171 - accuracy: 0.9937 - val_loss: 1.0340 - val_accuracy: 0.7273\n",
            "Epoch 16/30\n",
            "95/95 [==============================] - 51s 538ms/step - loss: 0.0318 - accuracy: 0.9906 - val_loss: 1.0876 - val_accuracy: 0.7727\n",
            "Epoch 17/30\n",
            "95/95 [==============================] - 51s 531ms/step - loss: 0.0697 - accuracy: 0.9808 - val_loss: 0.8017 - val_accuracy: 0.8182\n",
            "Epoch 18/30\n",
            "95/95 [==============================] - 51s 534ms/step - loss: 0.0085 - accuracy: 0.9971 - val_loss: 0.5431 - val_accuracy: 0.8636\n",
            "Epoch 19/30\n",
            "95/95 [==============================] - 51s 530ms/step - loss: 0.0068 - accuracy: 0.9982 - val_loss: 0.5078 - val_accuracy: 0.7727\n",
            "Epoch 20/30\n",
            "95/95 [==============================] - 51s 534ms/step - loss: 0.0069 - accuracy: 0.9964 - val_loss: 0.7456 - val_accuracy: 0.8636\n",
            "Epoch 21/30\n",
            "95/95 [==============================] - 51s 530ms/step - loss: 0.0044 - accuracy: 0.9987 - val_loss: 0.5413 - val_accuracy: 0.8636\n",
            "Epoch 22/30\n",
            "95/95 [==============================] - 51s 535ms/step - loss: 0.0057 - accuracy: 0.9980 - val_loss: 0.8906 - val_accuracy: 0.8182\n",
            "Epoch 23/30\n",
            "95/95 [==============================] - 51s 536ms/step - loss: 0.0140 - accuracy: 0.9957 - val_loss: 1.3882 - val_accuracy: 0.7727\n",
            "Epoch 24/30\n",
            "95/95 [==============================] - 51s 536ms/step - loss: 0.0102 - accuracy: 0.9971 - val_loss: 0.7575 - val_accuracy: 0.7727\n",
            "Epoch 25/30\n",
            "95/95 [==============================] - 51s 537ms/step - loss: 0.0032 - accuracy: 0.9990 - val_loss: 1.0582 - val_accuracy: 0.7727\n",
            "Epoch 26/30\n",
            "95/95 [==============================] - 52s 540ms/step - loss: 0.0025 - accuracy: 0.9989 - val_loss: 0.9370 - val_accuracy: 0.8182\n",
            "Epoch 27/30\n",
            "95/95 [==============================] - 51s 535ms/step - loss: 0.0028 - accuracy: 0.9992 - val_loss: 1.0766 - val_accuracy: 0.8182\n",
            "Epoch 28/30\n",
            "95/95 [==============================] - 51s 532ms/step - loss: 0.0028 - accuracy: 0.9990 - val_loss: 1.1490 - val_accuracy: 0.7727\n",
            "Epoch 29/30\n",
            "95/95 [==============================] - 51s 533ms/step - loss: 0.0422 - accuracy: 0.9839 - val_loss: 0.8450 - val_accuracy: 0.8182\n",
            "Epoch 30/30\n",
            "95/95 [==============================] - 51s 536ms/step - loss: 0.0321 - accuracy: 0.9898 - val_loss: 1.2745 - val_accuracy: 0.7273\n"
          ],
          "name": "stdout"
        }
      ]
    },
    {
      "cell_type": "markdown",
      "metadata": {
        "id": "kiykZosmOng4"
      },
      "source": [
        "Download model and labels"
      ]
    },
    {
      "cell_type": "code",
      "metadata": {
        "id": "Xic64ZlC6zsW",
        "colab": {
          "base_uri": "https://localhost:8080/",
          "height": 70
        },
        "outputId": "2cb81767-29a3-463c-f7c8-b835952ba594"
      },
      "source": [
        "saved_model_dir = 'save/fine_tuning'\n",
        "tf.saved_model.save(model, saved_model_dir)\n",
        "\n",
        "converter = tf.lite.TFLiteConverter.from_saved_model(saved_model_dir)\n",
        "tflite_model = converter.convert()\n",
        "\n",
        "with open('/content/gdrive/MyDrive/FYP/model.tflite', 'wb') as f:\n",
        "  f.write(tflite_model)\n",
        "\n",
        "from google.colab import files\n",
        "\n",
        "files.download('/content/gdrive/MyDrive/FYP/model.tflite')\n",
        "files.download('labels.txt')"
      ],
      "execution_count": null,
      "outputs": [
        {
          "output_type": "stream",
          "text": [
            "INFO:tensorflow:Assets written to: save/fine_tuning/assets\n"
          ],
          "name": "stdout"
        },
        {
          "output_type": "display_data",
          "data": {
            "application/javascript": [
              "\n",
              "    async function download(id, filename, size) {\n",
              "      if (!google.colab.kernel.accessAllowed) {\n",
              "        return;\n",
              "      }\n",
              "      const div = document.createElement('div');\n",
              "      const label = document.createElement('label');\n",
              "      label.textContent = `Downloading \"${filename}\": `;\n",
              "      div.appendChild(label);\n",
              "      const progress = document.createElement('progress');\n",
              "      progress.max = size;\n",
              "      div.appendChild(progress);\n",
              "      document.body.appendChild(div);\n",
              "\n",
              "      const buffers = [];\n",
              "      let downloaded = 0;\n",
              "\n",
              "      const channel = await google.colab.kernel.comms.open(id);\n",
              "      // Send a message to notify the kernel that we're ready.\n",
              "      channel.send({})\n",
              "\n",
              "      for await (const message of channel.messages) {\n",
              "        // Send a message to notify the kernel that we're ready.\n",
              "        channel.send({})\n",
              "        if (message.buffers) {\n",
              "          for (const buffer of message.buffers) {\n",
              "            buffers.push(buffer);\n",
              "            downloaded += buffer.byteLength;\n",
              "            progress.value = downloaded;\n",
              "          }\n",
              "        }\n",
              "      }\n",
              "      const blob = new Blob(buffers, {type: 'application/binary'});\n",
              "      const a = document.createElement('a');\n",
              "      a.href = window.URL.createObjectURL(blob);\n",
              "      a.download = filename;\n",
              "      div.appendChild(a);\n",
              "      a.click();\n",
              "      div.remove();\n",
              "    }\n",
              "  "
            ],
            "text/plain": [
              "<IPython.core.display.Javascript object>"
            ]
          },
          "metadata": {
            "tags": []
          }
        },
        {
          "output_type": "display_data",
          "data": {
            "application/javascript": [
              "download(\"download_fbe08bd5-e6a0-40c2-8e15-d978d906b6ac\", \"model.tflite\", 80695720)"
            ],
            "text/plain": [
              "<IPython.core.display.Javascript object>"
            ]
          },
          "metadata": {
            "tags": []
          }
        },
        {
          "output_type": "display_data",
          "data": {
            "application/javascript": [
              "\n",
              "    async function download(id, filename, size) {\n",
              "      if (!google.colab.kernel.accessAllowed) {\n",
              "        return;\n",
              "      }\n",
              "      const div = document.createElement('div');\n",
              "      const label = document.createElement('label');\n",
              "      label.textContent = `Downloading \"${filename}\": `;\n",
              "      div.appendChild(label);\n",
              "      const progress = document.createElement('progress');\n",
              "      progress.max = size;\n",
              "      div.appendChild(progress);\n",
              "      document.body.appendChild(div);\n",
              "\n",
              "      const buffers = [];\n",
              "      let downloaded = 0;\n",
              "\n",
              "      const channel = await google.colab.kernel.comms.open(id);\n",
              "      // Send a message to notify the kernel that we're ready.\n",
              "      channel.send({})\n",
              "\n",
              "      for await (const message of channel.messages) {\n",
              "        // Send a message to notify the kernel that we're ready.\n",
              "        channel.send({})\n",
              "        if (message.buffers) {\n",
              "          for (const buffer of message.buffers) {\n",
              "            buffers.push(buffer);\n",
              "            downloaded += buffer.byteLength;\n",
              "            progress.value = downloaded;\n",
              "          }\n",
              "        }\n",
              "      }\n",
              "      const blob = new Blob(buffers, {type: 'application/binary'});\n",
              "      const a = document.createElement('a');\n",
              "      a.href = window.URL.createObjectURL(blob);\n",
              "      a.download = filename;\n",
              "      div.appendChild(a);\n",
              "      a.click();\n",
              "      div.remove();\n",
              "    }\n",
              "  "
            ],
            "text/plain": [
              "<IPython.core.display.Javascript object>"
            ]
          },
          "metadata": {
            "tags": []
          }
        },
        {
          "output_type": "display_data",
          "data": {
            "application/javascript": [
              "download(\"download_6a7034f0-52ff-48c7-8a1d-ceb819fe2f99\", \"labels.txt\", 45)"
            ],
            "text/plain": [
              "<IPython.core.display.Javascript object>"
            ]
          },
          "metadata": {
            "tags": []
          }
        }
      ]
    }
  ]
}