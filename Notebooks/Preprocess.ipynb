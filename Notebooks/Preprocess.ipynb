{
  "nbformat": 4,
  "nbformat_minor": 0,
  "metadata": {
    "colab": {
      "name": "Preprocess.ipynb",
      "provenance": [],
      "machine_shape": "hm"
    },
    "kernelspec": {
      "name": "python3",
      "display_name": "Python 3"
    }
  },
  "cells": [
    {
      "cell_type": "markdown",
      "metadata": {
        "id": "adekMJ-b8rlE"
      },
      "source": [
        "Dependencies"
      ]
    },
    {
      "cell_type": "code",
      "metadata": {
        "id": "8duBG-sh8vLK"
      },
      "source": [
        "!pip install pydub\n",
        "from google.colab import drive\n",
        "drive.mount('/content/gdrive')\n",
        "from pathlib import Path\n",
        "import os\n",
        "import cv2\n",
        "from multiprocessing import Pool\n",
        "from pydub import AudioSegment\n",
        "from shutil import copy\n",
        "from google.colab.drive import flush_and_unmount\n",
        "!pip install audiomentations[extras]\n",
        "from audiomentations import (Compose, AddGaussianNoise, TimeStretch, PitchShift, Shift, AddBackgroundNoise, AddShortNoises, ClippingDistortion, Gain, Mp3Compression)\n",
        "import numpy as np\n",
        "import librosa\n",
        "import soundfile as sf\n",
        "import random"
      ],
      "execution_count": null,
      "outputs": []
    },
    {
      "cell_type": "markdown",
      "metadata": {
        "id": "t6qAzqYH80_s"
      },
      "source": [
        "Install ffmpeg"
      ]
    },
    {
      "cell_type": "code",
      "metadata": {
        "id": "eRHxD31n82Ml"
      },
      "source": [
        "!update-alternatives --config python3\n",
        "!add-apt-repository ppa:savoury1/ffmpeg4\n",
        "!apt install ffmpeg\n",
        "!ffmpeg -version"
      ],
      "execution_count": null,
      "outputs": []
    },
    {
      "cell_type": "markdown",
      "metadata": {
        "id": "p8NWvYHd83XW"
      },
      "source": [
        "Directories"
      ]
    },
    {
      "cell_type": "code",
      "metadata": {
        "id": "vbtFOUTY8opy"
      },
      "source": [
        "recordings_dir = Path(\"/content/gdrive/MyDrive/FYP/Top_Seven_Full_Even\")\n",
        "split_wav_dir = Path(\"/content/gdrive/MyDrive/FYP/Consistent_dataset/Split_validation\")\n",
        "even_clips_dir = Path(f\"/content/gdrive/MyDrive/FYP/Consistent_dataset/Even_Split_validation\")\n",
        "# augmented_dir = Path(\"/content/gdrive/MyDrive/FYP/Consistent_dataset/Augmented_train\")\n",
        "image_dir = Path(\"/content/gdrive/MyDrive/FYP/Consistent_dataset/Even_Split_validation_images\")"
      ],
      "execution_count": null,
      "outputs": []
    },
    {
      "cell_type": "markdown",
      "metadata": {
        "id": "3KRLJytV8fyR"
      },
      "source": [
        "Convert mp3s to wav, if any"
      ]
    },
    {
      "cell_type": "code",
      "metadata": {
        "id": "ReQSHpjv8dUA"
      },
      "source": [
        "for mp3_path in recordings_dir.glob('**/*.mp3'):\n",
        "  src_mp3_absolute = str(mp3_path.absolute())\n",
        "  print(f'Converting {src_mp3_absolute}')\n",
        "  species = str(mp3_path).split('/')[-2]\n",
        "  dst_wav_absolute = str(recordings_dir) + \"/\" + species + \"/\" + mp3_path.stem + \".wav\"\n",
        "  Path(dst_wav_absolute).parent.mkdir(parents=True, exist_ok=True)\n",
        "  try:\n",
        "    sound = AudioSegment.from_mp3(src_mp3_absolute)\n",
        "    sound.export(dst_wav_absolute, format=\"wav\")\n",
        "  except Exception:\n",
        "    pass\n",
        "  os.remove(mp3_path)\n",
        "\n",
        "flush_and_unmount()\n",
        "drive.mount('/content/gdrive')\n",
        "\n",
        "mp3_list = []\n",
        "for mp3_path in recordings_dir.glob('**/*.mp3'):\n",
        "  mp3_list.append(mp3_path)\n",
        "assert mp3_list == []"
      ],
      "execution_count": null,
      "outputs": []
    },
    {
      "cell_type": "markdown",
      "metadata": {
        "id": "hiHyByMZA6kG"
      },
      "source": [
        "Seconds to Min:Sec"
      ]
    },
    {
      "cell_type": "code",
      "metadata": {
        "id": "pQHyh-IKA8a8"
      },
      "source": [
        "def seconds_to_min_sec(seconds):\n",
        "  mins = int(seconds/60)\n",
        "  seconds = seconds - (60*mins)\n",
        "  if seconds < 10:\n",
        "    seconds = f\"0{seconds}\"\n",
        "  if mins < 10:\n",
        "    mins = f\"0{mins}\"\n",
        "  return f\"{mins}:{seconds}\""
      ],
      "execution_count": null,
      "outputs": []
    },
    {
      "cell_type": "markdown",
      "metadata": {
        "id": "gdmaIO2R9hIB"
      },
      "source": [
        "Split up audio files"
      ]
    },
    {
      "cell_type": "code",
      "metadata": {
        "id": "VbjXbY319kGU"
      },
      "source": [
        "\n",
        "  print(f\"Working on {file.stem}\")\n",
        "  species = str(file.parents[0]).split('/')[-1]\n",
        "  Path(f\"{split_wav_dir}/{species}\").mkdir(parents=True, exist_ok=True)\n",
        "  os.system(f\"ffmpeg -i \\\"{file.absolute()}\\\" -af loudnorm \\\"{file.stem}temp.wav\\\" -y\")\n",
        "  os.system(f'ffmpeg -i \\\"{file.stem}temp.wav\\\" -af \\\"highpass=f=20, lowpass=f=9500\\\" \\\"{file.stem}temp1.wav\\\" -y')\n",
        "  os.system(f\"ffmpeg -i \\\"{file.stem}temp1.wav\\\" -af afftdn \\\"{file.stem}temp2.wav\\\" -y\")\n",
        "  os.system(f\"ffmpeg -i \\\"{file.stem}temp2.wav\\\" -af silenceremove=stop_periods=-1:stop_duration=1:stop_threshold=-46dB \\\"{file.stem}temp3.wav\\\" -y\")\n",
        "  # os.system(f\"ffmpeg -i \\\"{file.stem}temp3.wav\\\" -f segment -segment_time 3 -c copy \\\"{split_wav_dir}/{species}/{file.stem}%03d.wav\\\" -y\")\n",
        "  total_duration = AudioSegment.from_file(file).duration_seconds\n",
        "  overlap = 0.25\n",
        "  start = 0\n",
        "  duration = 3\n",
        "  count = 0def split_wav(file):\n",
        "  while start < total_duration:\n",
        "    start_mins = seconds_to_min_sec(start)\n",
        "    end = seconds_to_min_sec(start+duration)\n",
        "    # print(f\"start = {start_mins}\")\n",
        "    # print(f\"end = {end}\")\n",
        "    command = f\"ffmpeg -i \\\"{file.stem}temp3.wav\\\" -ss {start_mins} -to {end} -acodec copy -y \\\"{split_wav_dir}/{species}/{file.stem}_{count}.wav\\\" -y\"\n",
        "    os.system(command)\n",
        "    count += 1\n",
        "    start += duration*(1-overlap)\n",
        "\n",
        "  if Path(f\"{file.stem}temp.wav\").exists() is False or Path(f\"{file.stem}temp1.wav\").exists() is False or Path(f\"{file.stem}temp2.wav\").exists() is False or Path(f\"{file.stem}temp3.wav\").exists() is False:\n",
        "    raise FileNotFoundError\n",
        "  os.remove(f\"{file.stem}temp.wav\")\n",
        "  os.remove(f\"{file.stem}temp1.wav\")\n",
        "  os.remove(f\"{file.stem}temp2.wav\")\n",
        "  os.remove(f\"{file.stem}temp3.wav\")\n",
        "  #\n",
        "  for split_file in Path(f\"{split_wav_dir}/{species}\").iterdir():\n",
        "    if split_file.name.startswith(file.stem):\n",
        "        audio = AudioSegment.from_file(split_file)\n",
        "        if audio.duration_seconds < 2.9:\n",
        "          os.remove(split_file)\n",
        "  #\n",
        "\n",
        "\n",
        "files = []\n",
        "for file in recordings_dir.glob('**/*.wav'):\n",
        "  files.append(file)\n",
        "\n",
        "pool = Pool(os.cpu_count())\n",
        "pool.map(split_wav, files)"
      ],
      "execution_count": null,
      "outputs": []
    },
    {
      "cell_type": "markdown",
      "metadata": {
        "id": "afU-MMwq-PRJ"
      },
      "source": [
        "Print the number of clips per species"
      ]
    },
    {
      "cell_type": "code",
      "metadata": {
        "id": "Rq4N5dbO-VLL"
      },
      "source": [
        "species_to_count = {}\n",
        "for file in split_wav_dir.glob('**/*.wav'):\n",
        "#for file in recordings_dir.glob('**/*.wav'):\n",
        "  species = str(file.parents[0]).split('/')[-1]\n",
        "  species_to_count[species] = 1 if species not in species_to_count  else species_to_count[species] + 1 \n",
        "\n",
        "species_to_count = {k: v for k, v in sorted(species_to_count.items(), key=lambda item: item[1], reverse=True)}\n",
        "\n",
        "for species, count in species_to_count.items():\n",
        "  print(f\"{species} : {count}\")"
      ],
      "execution_count": null,
      "outputs": []
    },
    {
      "cell_type": "markdown",
      "metadata": {
        "id": "2hOjPiNn-YJs"
      },
      "source": [
        "(Optional) Make evenly distributed / set number of clips per species"
      ]
    },
    {
      "cell_type": "code",
      "metadata": {
        "id": "xAtW0YNb-ewj"
      },
      "source": [
        "species_list = species_to_count.keys()\n",
        "\n",
        "number_to_copy = min([species_to_count[species] for species in species_list])\n",
        "\n",
        "# number_to_copy = 747\n",
        "\n",
        "print(number_to_copy)\n",
        "\n",
        "species_to_files = {}\n",
        "for species in species_list:\n",
        "  species_to_files[species] = []\n",
        "\n",
        "for file in split_wav_dir.glob('**/*.wav'):\n",
        "# for file in recordings_dir.glob('**/*.wav'):\n",
        "  species = str(file.parents[0]).split('/')[-1]\n",
        "  if species in species_list and len(species_to_files[species]) < number_to_copy:\n",
        "    species_to_files[species].append(file)\n",
        "\n",
        "count = 1\n",
        "for species, file_list in species_to_files.items():\n",
        "  for file in file_list:\n",
        "    copy_species_path = Path(f\"{even_clips_dir}/{species}\")\n",
        "    copy_species_path.mkdir(exist_ok=True, parents=True)\n",
        "    print(f\"copying {file.stem} ({count}/{number_to_copy*len(species_to_files)})\")\n",
        "    output_path = Path(f\"{copy_species_path}/{file.name}\")\n",
        "    copy(file, output_path)\n",
        "    count += 1\n",
        "  flush_and_unmount()\n",
        "  drive.mount('/content/gdrive')"
      ],
      "execution_count": null,
      "outputs": []
    },
    {
      "cell_type": "markdown",
      "metadata": {
        "id": "Ip9km_9JAi-3"
      },
      "source": [
        "Apply Augmentation of audio files"
      ]
    },
    {
      "cell_type": "code",
      "metadata": {
        "id": "zC90gWtYAp1A"
      },
      "source": [
        "\n",
        "MIN_AUDIO_DURATION_SECONDS = 15\n",
        "MAX_NUMBER_OF_SPLITS_TO_MAKE = 7\n",
        "MIN_NUMBER_OF_SPLITS_TO_MAKE = 3\n",
        "\n",
        "def make_audio_files(file_path_str, augmented_dir, species):\n",
        "    duration = librosa.get_duration(filename=file_path_str)\n",
        "    output_dir = f\"{str(augmented_dir)}/{species}\"\n",
        "    Path(output_dir).mkdir(exist_ok=True, parents=True)\n",
        "    output = f\"{str(output_dir)}/{Path(file_path_str).name}\"\n",
        "    copy(file_path_str, output)\n",
        "    files = [output]\n",
        "    if duration <= MIN_AUDIO_DURATION_SECONDS:\n",
        "      return files\n",
        "    for split_number in range(random.randrange(MIN_NUMBER_OF_SPLITS_TO_MAKE, MAX_NUMBER_OF_SPLITS_TO_MAKE)):\n",
        "        start = random.uniform(0, duration - MIN_AUDIO_DURATION_SECONDS)\n",
        "        end = random.uniform(start + MIN_AUDIO_DURATION_SECONDS, duration)\n",
        "        start_mins = seconds_to_min_sec(start)\n",
        "        end_mins = seconds_to_min_sec(end)\n",
        "        file_path = Path(file_path_str)\n",
        "        output_file_str = f\"{str(augmented_dir)}/{species}/{file_path.stem}_{split_number}{file_path.suffix}\"\n",
        "        command = f\"ffmpeg -i \\\"{file_path_str}\\\" -ss {start_mins} -to {end_mins} -acodec copy -y \\\"{output_file_str}\\\" -y\"\n",
        "        print(command)\n",
        "        os.system(command)\n",
        "        if Path(output_file_str).exists() is False:\n",
        "            raise FileNotFoundError\n",
        "        files.append(output_file_str)\n",
        "    return files\n",
        "\n",
        "operations = [AddGaussianNoise(max_amplitude=0.03, p=0.75), AddGaussianNoise(min_amplitude=0.002), \n",
        "              Shift(min_fraction=-1, max_fraction=1, p=0.75), AddBackgroundNoise(\"/content/gdrive/MyDrive/FYP/Ambient-Sounds\", p=0.75), \n",
        "              AddShortNoises(\"/content/gdrive/MyDrive/FYP/Ambient-Sounds\"), ClippingDistortion(min_percentile_threshold=20, max_percentile_threshold=30),\n",
        "              Gain(min_gain_in_db=-20, max_gain_in_db=20, p=0.625), Mp3Compression()]\n",
        "\n",
        "# for file in even_clips_dir.glob('**/*.wav'):\n",
        "for file in recordings_dir.glob('**/*.wav'):\n",
        "  species = str(file.parents[0]).split('/')[-1]\n",
        "  audio_files_list = make_audio_files(str(file), augmented_dir, species)\n",
        "  print(f\" --- Making splits for {file.stem}\")\n",
        "  for audio_file_path in audio_files_list:\n",
        "    print(f\" ------ Augmenting {Path(audio_file_path).stem}\")\n",
        "    signal, sample_rate = librosa.load(str(audio_file_path))\n",
        "    for operation in operations:\n",
        "      print(f\" --------- Applying operation {type(operation).__name__}\")\n",
        "      augment = Compose([operation])\n",
        "      augmented_samples = augment(samples=signal, sample_rate=sample_rate)\n",
        "      Path(f\"{augmented_dir}/{species}\").mkdir(exist_ok=True, parents=True)\n",
        "      sf.write(f\"{augmented_dir}/{species}/{Path(audio_file_path).stem}_{type(operation).__name__}.wav\", augmented_samples, sample_rate)"
      ],
      "execution_count": null,
      "outputs": []
    },
    {
      "cell_type": "markdown",
      "metadata": {
        "id": "KZW4RL2x_Ar3"
      },
      "source": [
        "Make Images"
      ]
    },
    {
      "cell_type": "code",
      "metadata": {
        "colab": {
          "base_uri": "https://localhost:8080/"
        },
        "id": "WnZ73tcl_B2Q",
        "outputId": "053524cb-81f8-41b0-8d3a-2c737342fb8c"
      },
      "source": [
        "from multiprocessing import Pool\n",
        "\n",
        "def make_image(file_path):\n",
        "  species = str(file_path.parents[0]).split('/')[-1]\n",
        "  Path(f\"{image_dir}/{species}\").mkdir(exist_ok=True, parents=True)\n",
        "  image_file_path_str = f\"{image_dir}/{species}/{file_path.stem}.png\"\n",
        "  if Path(image_file_path_str).exists() and cv2.imread(image_file_path_str).shape == (968, 602, 3):\n",
        "    return\n",
        "  print(f\"Making image for {file_path.stem}\")\n",
        "  os.system(f\"ffmpeg -i \\\"{file_path.absolute()}\\\" -lavfi showspectrumpic=s=600x960:stop=10000 \\\"{image_file_path_str}\\\"\")\n",
        "  img = cv2.imread(image_file_path_str)\n",
        "  crop_img = img[60:-60, 156:-156]\n",
        "  cv2.imwrite(image_file_path_str, crop_img)\n",
        "\n",
        "print(os.cpu_count())\n",
        "\n",
        "file_list = []\n",
        "for file in even_clips_dir.glob('**/*.wav'):\n",
        "# for file in recordings_dir.glob('**/*.wav'):\n",
        "# for file in augmented_dir.glob('**/*.wav'):\n",
        "  file_list.append(file)\n",
        "\n",
        "pool = Pool(os.cpu_count())\n",
        "pool.map(make_image, file_list)\n",
        "print(\"Done\")"
      ],
      "execution_count": null,
      "outputs": [
        {
          "output_type": "stream",
          "text": [
            "4\n",
            "Done\n"
          ],
          "name": "stdout"
        }
      ]
    }
  ]
}