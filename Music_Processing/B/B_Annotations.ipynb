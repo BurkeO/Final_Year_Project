{
 "cells": [
  {
   "cell_type": "markdown",
   "metadata": {},
   "source": [
    "<div>\n",
    "<a href=\"http://www.music-processing.de/\"><img style=\"float:left;\" src=\"../data/FMP_Teaser_Cover.png\" width=40% alt=\"FMP\"></a>\n",
    "<a href=\"https://www.audiolabs-erlangen.de\"><img src=\"../data/Logo_AudioLabs_Long.png\" width=59% style=\"float: right;\" alt=\"AudioLabs\"></a>\n",
    "</div>"
   ]
  },
  {
   "cell_type": "markdown",
   "metadata": {},
   "source": [
    "<div>\n",
    "<a href=\"../B/B.html\"><img src=\"../data/B_nav.png\" width=\"100\"  style=\"float:right;\" alt=\"B\"></a>\n",
    "<h1>Annotation Visualization</h1> \n",
    "</div>\n",
    "\n",
    "<br/>\n",
    "\n",
    "<p>\n",
    "In this notebook, we introduce some <code>libfmp</code>-functions that can be used for visualizing various kinds of annotations as encountered in music processing. In particular, we consider <strong>single-value annotations</strong> and <strong>segment annotations</strong> that consist of pairs of values.\n",
    "</p> "
   ]
  },
  {
   "cell_type": "markdown",
   "metadata": {},
   "source": [
    "## Conventions and Formats\n",
    "\n",
    "In the FMP notebooks, we encounter various types of annotations that can be expressed as list of **instances**. Typically, an instance consists of one or several **numerical values** (e.g., time positions, durations, frequency values, pitches, and so on) and a **label** given as text string. In this notebook, we consider **single-value annotations** (one numerical value and a label) and **segment annotations** (two numerical values and a label). For more complex examples, we refer to [FMP notebook on symbolic music formats](../C1/C1S2_CSV.html). To write and read annotations, we use a simple file format based on on **comma-separated values** (CSV). Each instance corresponds to a **row**, and the elements (i.e., numerical values and label) of each row are separated by a **semicolon** (`;`) rather than a comma. Furthermore, in the first row, we include a header line that specifies the meaning of the columns (i.e., the elements).\n",
    "\n",
    "To read, write, and modify CSV files, we often use the Python library [`pandas`](https://pandas.pydata.org/), which provides easy-to-use data structures and data analysis tools. Using the pandas framework, the content of a CSV file is stored in a two-dimensional tabular data structure with labeled axes (rows and columns) called `DataFrame`. This data structure can be accessed using attributes, see the [documentation for `pandas.DataFrame`](http://pandas.pydata.org/pandas-docs/stable/reference/api/pandas.DataFrame.html). For more details, we refer to the [FMP notebook on the CSV format](../C1/C1S2_CSV.html) and the functions `libfmp.b.read_csv` and `libfmp.b.write_csv`. In the following, we look at some simple examples that illustrate our conventions. "
   ]
  },
  {
   "cell_type": "markdown",
   "metadata": {},
   "source": [
    "## Single-Value Annotations\n",
    "\n",
    "We start with an annotation format, where each instance consists of a single **numerical value**. Such a value  may refer to a time position (specified in seconds or frame indices) or to a frequency value (specified in Hertz or frequency bin indices). Furthermore, the semantics of this numerical value is further specified by a **label**, which consists of a text string. We encounter a typical example for such an annotation type in the context of [tempo and beat tracking](../C6/C6.html), where the values are time positions (given in seconds) and the labels specify the musical meaning of the time position (e.g., indicating a measure, quarter note, or eighth note position). In the following code cell, we generate a toy example of such an annotation, which serves as our running example. The data structure consists of a list of tuples, each tuple consisting of a value and label. We also show how the data structure can be converted into a `DataFrame` (`df`) and `csv` file."
   ]
  },
  {
   "cell_type": "code",
   "execution_count": 1,
   "metadata": {},
   "outputs": [
    {
     "name": "stdout",
     "output_type": "stream",
     "text": [
      "=== Dummy annotation ===\n",
      "[(0.0, 'measure'), (0.0, 'quarter'), (0.0, 'eighth'), (0.25, 'eighth'), (0.5, 'quarter'), (0.5, 'eighth'), (0.75, 'eighth'), (1.0, 'measure'), (1.0, 'quarter'), (1.0, 'eighth'), (1.25, 'eighth'), (1.5, 'quarter'), (1.5, 'eighth'), (1.75, 'eighth'), (2.0, 'measure'), (2.0, 'quarter'), (2.0, 'eighth'), (2.25, 'eighth')]\n",
      "\n",
      "=== Dummy annotation in CSV format ===\n",
      "\"position\";\"label\"\r\n",
      "0.0;\"measure\"\r\n",
      "0.0;\"quarter\"\r\n",
      "0.0;\"eighth\"\r\n",
      "0.25;\"eighth\"\r\n",
      "0.5;\"quarter\"\r\n",
      "0.5;\"eighth\"\r\n",
      "0.75;\"eighth\"\r\n",
      "1.0;\"measure\"\r\n",
      "1.0;\"quarter\"\r\n",
      "1.0;\"eighth\"\r\n",
      "1.25;\"eighth\"\r\n",
      "1.5;\"quarter\"\r\n",
      "1.5;\"eighth\"\r\n",
      "1.75;\"eighth\"\r\n",
      "2.0;\"measure\"\r\n",
      "2.0;\"quarter\"\r\n",
      "2.0;\"eighth\"\r\n",
      "2.25;\"eighth\"\r\n",
      "\n",
      "=== Dummy annotation stored as DataFrame and rendered as HTML ===\n"
     ]
    },
    {
     "data": {
      "text/html": [
       "<table border=\"1\" class=\"dataframe\">\n",
       "  <thead>\n",
       "    <tr style=\"text-align: right;\">\n",
       "      <th></th>\n",
       "      <th>position</th>\n",
       "      <th>label</th>\n",
       "    </tr>\n",
       "  </thead>\n",
       "  <tbody>\n",
       "    <tr>\n",
       "      <th>0</th>\n",
       "      <td>0.00</td>\n",
       "      <td>measure</td>\n",
       "    </tr>\n",
       "    <tr>\n",
       "      <th>1</th>\n",
       "      <td>0.00</td>\n",
       "      <td>quarter</td>\n",
       "    </tr>\n",
       "    <tr>\n",
       "      <th>2</th>\n",
       "      <td>0.00</td>\n",
       "      <td>eighth</td>\n",
       "    </tr>\n",
       "    <tr>\n",
       "      <th>3</th>\n",
       "      <td>0.25</td>\n",
       "      <td>eighth</td>\n",
       "    </tr>\n",
       "    <tr>\n",
       "      <th>4</th>\n",
       "      <td>0.50</td>\n",
       "      <td>quarter</td>\n",
       "    </tr>\n",
       "    <tr>\n",
       "      <th>5</th>\n",
       "      <td>0.50</td>\n",
       "      <td>eighth</td>\n",
       "    </tr>\n",
       "    <tr>\n",
       "      <th>6</th>\n",
       "      <td>0.75</td>\n",
       "      <td>eighth</td>\n",
       "    </tr>\n",
       "    <tr>\n",
       "      <th>7</th>\n",
       "      <td>1.00</td>\n",
       "      <td>measure</td>\n",
       "    </tr>\n",
       "    <tr>\n",
       "      <th>8</th>\n",
       "      <td>1.00</td>\n",
       "      <td>quarter</td>\n",
       "    </tr>\n",
       "    <tr>\n",
       "      <th>9</th>\n",
       "      <td>1.00</td>\n",
       "      <td>eighth</td>\n",
       "    </tr>\n",
       "    <tr>\n",
       "      <th>10</th>\n",
       "      <td>1.25</td>\n",
       "      <td>eighth</td>\n",
       "    </tr>\n",
       "    <tr>\n",
       "      <th>11</th>\n",
       "      <td>1.50</td>\n",
       "      <td>quarter</td>\n",
       "    </tr>\n",
       "    <tr>\n",
       "      <th>12</th>\n",
       "      <td>1.50</td>\n",
       "      <td>eighth</td>\n",
       "    </tr>\n",
       "    <tr>\n",
       "      <th>13</th>\n",
       "      <td>1.75</td>\n",
       "      <td>eighth</td>\n",
       "    </tr>\n",
       "    <tr>\n",
       "      <th>14</th>\n",
       "      <td>2.00</td>\n",
       "      <td>measure</td>\n",
       "    </tr>\n",
       "    <tr>\n",
       "      <th>15</th>\n",
       "      <td>2.00</td>\n",
       "      <td>quarter</td>\n",
       "    </tr>\n",
       "    <tr>\n",
       "      <th>16</th>\n",
       "      <td>2.00</td>\n",
       "      <td>eighth</td>\n",
       "    </tr>\n",
       "    <tr>\n",
       "      <th>17</th>\n",
       "      <td>2.25</td>\n",
       "      <td>eighth</td>\n",
       "    </tr>\n",
       "  </tbody>\n",
       "</table>"
      ],
      "text/plain": [
       "<IPython.core.display.HTML object>"
      ]
     },
     "metadata": {},
     "output_type": "display_data"
    }
   ],
   "source": [
    "import os\n",
    "import sys\n",
    "import numpy as np\n",
    "import pandas as pd\n",
    "from matplotlib import pyplot as plt\n",
    "import IPython.display as ipd\n",
    "sys.path.append('..')\n",
    "import libfmp.b\n",
    "\n",
    "%matplotlib inline\n",
    "\n",
    "measures = np.arange(0, 2.5, 1.0)\n",
    "quarters = np.arange(0, 2.5, 0.5)\n",
    "eighths = np.arange(0, 2.5, 0.25)\n",
    "\n",
    "# Generate dummy annotations\n",
    "ann = sorted([(n, 'measure') for n in measures] +\n",
    "             [(n, 'quarter') for n in quarters] +\n",
    "             [(n, 'eighth') for n in eighths], key=lambda x: x[0])\n",
    "print('=== Dummy annotation ===')\n",
    "print(ann)\n",
    "\n",
    "# Convert to DataFrame and CSV format (as used for the FMP notebooks)\n",
    "ann_df = pd.DataFrame(ann, columns=['position', 'label'])\n",
    "ann_csv = ann_df.to_csv(sep=';', index=False, quoting=2)\n",
    "print('\\n=== Dummy annotation in CSV format ===')\n",
    "print(ann_csv)\n",
    "print('=== Dummy annotation stored as DataFrame and rendered as HTML ===')\n",
    "ipd.display(ipd.HTML(ann_df.to_html()))\n",
    "\n",
    "# Store and load annotation file \n",
    "#fn_out = os.path.join('..', 'output', 'B', 'FMP_annotation_position_dummy.csv')\n",
    "#ann_df.to_csv(fn_out, sep=';', index=False, quoting=2)\n",
    "#ann_df = pd.read_csv(fn_out, sep=';')\n",
    "#ann = [(position, label) for i, (position, label) in df.iterrows()]"
   ]
  },
  {
   "cell_type": "markdown",
   "metadata": {},
   "source": [
    "The function `libfmp.b.plot_annotation_line` allows for plotting single-value annotations. In the following code cell, we visualize the annotations within a single plot, where each label type is assigned to an individual plotting style."
   ]
  },
  {
   "cell_type": "code",
   "execution_count": 2,
   "metadata": {},
   "outputs": [
    {
     "data": {
      "image/png": "[encoded data removed]",
      "text/plain": [
       "<Figure size 432x72 with 1 Axes>"
      ]
     },
     "metadata": {
      "needs_background": "light"
     },
     "output_type": "display_data"
    }
   ],
   "source": [
    "label_keys = {'measure': {'linewidth': 6, 'color': 'k'},\n",
    "              'quarter': {'linewidth': 3, 'color': 'b'},\n",
    "              'eighth': {'linewidth': 1, 'color': 'r'}}\n",
    "        \n",
    "fig, ax = libfmp.b.plot_annotation_line(ann, label_keys=label_keys)\n",
    "ax.set_xlim([-1,3]);"
   ]
  },
  {
   "cell_type": "markdown",
   "metadata": {},
   "source": [
    "Next, we visualize the annotations horizontally aligned to a matrix. This mimics the situation, where the horizontal axis of the matrix has the semantics expressed by the annotations. "
   ]
  },
  {
   "cell_type": "code",
   "execution_count": 3,
   "metadata": {},
   "outputs": [
    {
     "data": {
      "image/png": "[encoded data removed]",
      "text/plain": [
       "<Figure size 432x216 with 2 Axes>"
      ]
     },
     "metadata": {
      "needs_background": "light"
     },
     "output_type": "display_data"
    }
   ],
   "source": [
    "matrix = np.random.random((16, 16))\n",
    "\n",
    "fig, ax = plt.subplots(2, 1, sharex=True, \n",
    "                       gridspec_kw={'height_ratios': [4, 1]}, figsize=(6, 3))\n",
    "\n",
    "ax[0].imshow(matrix, cmap='gray_r', aspect='auto', extent=[-1, 3, 0, 1], alpha=0.5)\n",
    "libfmp.b.plot_annotation_line(ann, ax=ax[1], label_keys=label_keys, time_min=-1, time_max=3)\n",
    "\n",
    "plt.tight_layout()"
   ]
  },
  {
   "cell_type": "markdown",
   "metadata": {},
   "source": [
    "Similarly, the annotations can be visualized vertically aligned to the matrix. "
   ]
  },
  {
   "cell_type": "code",
   "execution_count": 4,
   "metadata": {},
   "outputs": [
    {
     "data": {
      "image/png": "[encoded data removed]",
      "text/plain": [
       "<Figure size 432x216 with 2 Axes>"
      ]
     },
     "metadata": {
      "needs_background": "light"
     },
     "output_type": "display_data"
    }
   ],
   "source": [
    "fig, ax = plt.subplots(1, 2, sharey=True, \n",
    "                       gridspec_kw={'width_ratios': [1, 10]}, figsize=(6, 3))\n",
    "\n",
    "ax[1].imshow(matrix, cmap='gray_r', aspect='auto', extent=[0, 1, -1, 3], alpha=0.5)\n",
    "libfmp.b.plot_annotation_line(ann, ax=ax[0], label_keys=label_keys, \n",
    "                              direction='vertical', time_min=-1, time_max=3)\n",
    "\n",
    "plt.tight_layout()"
   ]
  },
  {
   "cell_type": "markdown",
   "metadata": {},
   "source": [
    "Similar to `libfmp.b.plot_annotation_line`, there also is the function `libfmp.b.plot_annotation_line_overlay`, which can be used to overlay a matrix with the annotations horizontally as well as vertically."
   ]
  },
  {
   "cell_type": "code",
   "execution_count": 5,
   "metadata": {},
   "outputs": [
    {
     "data": {
      "image/png": "[encoded data removed]",
      "text/plain": [
       "<Figure size 576x216 with 2 Axes>"
      ]
     },
     "metadata": {
      "needs_background": "light"
     },
     "output_type": "display_data"
    }
   ],
   "source": [
    "fig, ax = plt.subplots(1, 2, gridspec_kw={'width_ratios': [3, 2]}, figsize=(8, 3))\n",
    "\n",
    "ax[0].imshow(matrix, cmap='gray_r', aspect='auto', extent=[-1, 3, 0, 1], alpha=0.5)\n",
    "libfmp.b.plot_annotation_line_overlay(ann, ax=ax[0], label_keys=label_keys, time_min=-1, time_max=3)\n",
    "\n",
    "ax[1].imshow(matrix, cmap='gray_r', aspect='auto', extent=[0, 1, -1, 3], alpha=0.5)\n",
    "libfmp.b.plot_annotation_line_overlay(ann, ax=ax[1], direction='vertical',\n",
    "                              label_keys=label_keys, time_min=-1, time_max=3)\n",
    "plt.tight_layout()"
   ]
  },
  {
   "cell_type": "markdown",
   "metadata": {},
   "source": [
    "The function `libfmp.b.plot_annotation_multiline` allows for plotting single-value annotations, where each label type is not only assigned to an individual plotting style, but also to a spatially separate row (or column)."
   ]
  },
  {
   "cell_type": "code",
   "execution_count": 6,
   "metadata": {},
   "outputs": [
    {
     "data": {
      "image/png": "[encoded data removed]",
      "text/plain": [
       "<Figure size 432x108 with 1 Axes>"
      ]
     },
     "metadata": {
      "needs_background": "light"
     },
     "output_type": "display_data"
    }
   ],
   "source": [
    "fig, ax = libfmp.b.plot_annotation_multiline(ann, label_keys=label_keys, \n",
    "                                   sort_labels=['measure', 'quarter', 'eighth'])\n",
    "ax.set_xlim([-1,3]);"
   ]
  },
  {
   "cell_type": "markdown",
   "metadata": {},
   "source": [
    "The function `libfmp.b.plot_annotation_multiline` can be horizontally or vertically aligned to a given matrix, as demonstrated in the next code cell. In this example, we also show how two plots may be placed next to each other using the function [`libfmp.b.FloatingBox`](../B/B_PythonVisualization.html)."
   ]
  },
  {
   "cell_type": "code",
   "execution_count": 7,
   "metadata": {},
   "outputs": [
    {
     "data": {
      "text/html": [
       "\n",
       "        <style>\n",
       "        .floating-box-fmp-9d1b7509-cd2c-436a-a55f-aea96fdf39db {\n",
       "        display: inline-block;\n",
       "        margin: 10px;\n",
       "        vertical-align: middle;\n",
       "        }\n",
       "        </style>\n",
       "        <div class=\"floating-box-fmp-9d1b7509-cd2c-436a-a55f-aea96fdf39db\"><img src=\"data:image/png;base64,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\n",
       "\"></div><div class=\"floating-box-fmp-9d1b7509-cd2c-436a-a55f-aea96fdf39db\"><img src=\"data:image/png;base64,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\n",
       "\"></div>"
      ],
      "text/plain": [
       "<IPython.core.display.HTML object>"
      ]
     },
     "metadata": {},
     "output_type": "display_data"
    }
   ],
   "source": [
    "float_box = libfmp.b.FloatingBox()\n",
    "\n",
    "fig, ax = plt.subplots(2, 1, sharex=True, \n",
    "                       gridspec_kw={'height_ratios': [2, 1]}, figsize=(4, 3))\n",
    "ax[0].imshow(matrix, cmap='gray_r', aspect='auto', \n",
    "             extent=[-1, 5, 0, 1], alpha=0.5)\n",
    "ax[0].set_xlim([-1, 3])\n",
    "libfmp.b.plot_annotation_multiline(ann, ax=ax[1], label_keys=label_keys,\n",
    "                                   sort_labels=['measure', 'quarter', 'eighth'],\n",
    "                                   time_min=-1, time_max=3)\n",
    "plt.tight_layout()\n",
    "float_box.add_fig(fig)\n",
    "\n",
    "fig, ax = plt.subplots(1, 2, sharey=True, gridspec_kw={'width_ratios': [2, 10]}, \n",
    "                       figsize=(4, 3))\n",
    "ax[1].imshow(matrix, cmap='gray_r', aspect='auto', extent=[0, 1, -1, 3], alpha=0.5)\n",
    "ax[1].set_ylim([-1, 5])\n",
    "libfmp.b.plot_annotation_multiline(ann, ax=ax[0], label_keys=label_keys, sort_labels=['measure', 'quarter', 'eighth'],\n",
    "                     direction='vertical', time_min=-1, time_max=3)\n",
    "plt.tight_layout()\n",
    "float_box.add_fig(fig)\n",
    "\n",
    "float_box.show()"
   ]
  },
  {
   "cell_type": "markdown",
   "metadata": {},
   "source": [
    "## Segment Annotations\n",
    "\n",
    "A second type of annotation we regularly encounter in the FMP notebooks are **segment annotations**, where each instance consists of two numerical values and a label. Typically, the two numerical values encode the start and end positions (given in seconds) of a time interval and the label assigns to this time interval a semantic category. For example, in [chord recognition](../C5/C5.html), the segments specify time intervals of a music recording and the labels specify musical [chords](../C5/C5S1_Chords.html) such as $\\mathrm{C}$-major or a $\\mathrm{E}^\\flat$-minor chord. Or, in [music structure analysis](../C4/C4.html), the segments encode [musical parts](../C4/C4S1_MusicStructureGeneral.html), which are typically labeled by capital letters $A,B,C, \\ldots$ in the order of their first occurrence. In the following code cell, we generate a toy example of such a segment annotation, which serves as our running example. "
   ]
  },
  {
   "cell_type": "code",
   "execution_count": 8,
   "metadata": {},
   "outputs": [
    {
     "name": "stdout",
     "output_type": "stream",
     "text": [
      "=== Dummy annotation ===\n",
      "[(0, 8, 'A'), (8, 16, 'A'), (16, 24, 'B'), (27, 33, 'C'), (33, 40, 'C'), (40, 48, 'B')]\n",
      "\n",
      "=== Dummy annotation in CSV format ===\n",
      "\"start\";\"end\";\"label\"\r\n",
      "0;8;\"A\"\r\n",
      "8;16;\"A\"\r\n",
      "16;24;\"B\"\r\n",
      "27;33;\"C\"\r\n",
      "33;40;\"C\"\r\n",
      "40;48;\"B\"\r\n",
      "\n",
      "=== Dummy annotation stored as DataFrame and rendered as HTML ===\n"
     ]
    },
    {
     "data": {
      "text/html": [
       "<table border=\"1\" class=\"dataframe\">\n",
       "  <thead>\n",
       "    <tr style=\"text-align: right;\">\n",
       "      <th></th>\n",
       "      <th>start</th>\n",
       "      <th>end</th>\n",
       "      <th>label</th>\n",
       "    </tr>\n",
       "  </thead>\n",
       "  <tbody>\n",
       "    <tr>\n",
       "      <th>0</th>\n",
       "      <td>0</td>\n",
       "      <td>8</td>\n",
       "      <td>A</td>\n",
       "    </tr>\n",
       "    <tr>\n",
       "      <th>1</th>\n",
       "      <td>8</td>\n",
       "      <td>16</td>\n",
       "      <td>A</td>\n",
       "    </tr>\n",
       "    <tr>\n",
       "      <th>2</th>\n",
       "      <td>16</td>\n",
       "      <td>24</td>\n",
       "      <td>B</td>\n",
       "    </tr>\n",
       "    <tr>\n",
       "      <th>3</th>\n",
       "      <td>27</td>\n",
       "      <td>33</td>\n",
       "      <td>C</td>\n",
       "    </tr>\n",
       "    <tr>\n",
       "      <th>4</th>\n",
       "      <td>33</td>\n",
       "      <td>40</td>\n",
       "      <td>C</td>\n",
       "    </tr>\n",
       "    <tr>\n",
       "      <th>5</th>\n",
       "      <td>40</td>\n",
       "      <td>48</td>\n",
       "      <td>B</td>\n",
       "    </tr>\n",
       "  </tbody>\n",
       "</table>"
      ],
      "text/plain": [
       "<IPython.core.display.HTML object>"
      ]
     },
     "metadata": {},
     "output_type": "display_data"
    }
   ],
   "source": [
    "ann = [(0, 8, 'A'), (8, 16, 'A'), (16, 24, 'B'), \n",
    "       (27, 33, 'C'), (33, 40, 'C'),  (40, 48, 'B')]\n",
    "print('=== Dummy annotation ===')\n",
    "print(ann)\n",
    "\n",
    "# Convert to DataFrame and CSV format (as used for the FMP notebooks)\n",
    "ann_df = pd.DataFrame(ann, columns=['start', 'end', 'label'])\n",
    "ann_csv = ann_df.to_csv(sep=';', index=False, quoting=2)\n",
    "print('\\n=== Dummy annotation in CSV format ===')\n",
    "print(ann_csv)\n",
    "print('=== Dummy annotation stored as DataFrame and rendered as HTML ===')\n",
    "ipd.display(ipd.HTML(ann_df.to_html()))\n",
    "\n",
    "# Store and load annotation file \n",
    "#fn_out = os.path.join('..', 'output', 'B', 'FMP_annotation_segment_dummy.csv')\n",
    "#ann_df.to_csv(fn_out, sep=';', index=False, quoting=2)\n",
    "#ann_df = pd.read_csv(fn_out, sep=';')\n",
    "#ann = [(start, end, label) for i, (start, end, label) in df.iterrows()]"
   ]
  },
  {
   "cell_type": "markdown",
   "metadata": {},
   "source": [
    "The function `libfmp.b.plot_segments` allows for plotting segment annotations, where each label type is assigned to an individual color. In the following code cell, we visualize the segment annotations with default colors and colors that are defined via a dictionary."
   ]
  },
  {
   "cell_type": "code",
   "execution_count": 9,
   "metadata": {},
   "outputs": [
    {
     "data": {
      "image/png": "[encoded data removed]",
      "text/plain": [
       "<Figure size 432x72 with 1 Axes>"
      ]
     },
     "metadata": {
      "needs_background": "light"
     },
     "output_type": "display_data"
    },
    {
     "data": {
      "image/png": "[encoded data removed]",
      "text/plain": [
       "<Figure size 432x72 with 1 Axes>"
      ]
     },
     "metadata": {
      "needs_background": "light"
     },
     "output_type": "display_data"
    }
   ],
   "source": [
    "fig, ax = libfmp.b.plot_segments(ann)\n",
    "\n",
    "color_ann = {'A': [1, 0, 0, 0.2], 'B': [0, 1, 0, 0.2], \n",
    "             'C': [0, 0, 1, 0.2], '': [1, 1, 1, 0.2]}\n",
    "\n",
    "fig, ax = libfmp.b.plot_segments(ann, colors = color_ann)"
   ]
  },
  {
   "cell_type": "markdown",
   "metadata": {},
   "source": [
    "Next, we visualize the segment annotations horizontally aligned to a matrix, once in vertical direction and once in horizontal direction."
   ]
  },
  {
   "cell_type": "code",
   "execution_count": 10,
   "metadata": {},
   "outputs": [
    {
     "data": {
      "text/html": [
       "\n",
       "        <style>\n",
       "        .floating-box-fmp-89d1d7f9-84ee-4d94-9629-107dfea2bb40 {\n",
       "        display: inline-block;\n",
       "        margin: 10px;\n",
       "        vertical-align: middle;\n",
       "        }\n",
       "        </style>\n",
       "        <div class=\"floating-box-fmp-89d1d7f9-84ee-4d94-9629-107dfea2bb40\"><img src=\"data:image/png;base64,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\n",
       "\"></div><div class=\"floating-box-fmp-89d1d7f9-84ee-4d94-9629-107dfea2bb40\"><img src=\"data:image/png;base64,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\n",
       "\"></div>"
      ],
      "text/plain": [
       "<IPython.core.display.HTML object>"
      ]
     },
     "metadata": {},
     "output_type": "display_data"
    }
   ],
   "source": [
    "float_box = libfmp.b.FloatingBox()\n",
    "\n",
    "# Horizontal alignment\n",
    "fig, ax = plt.subplots(2, 1, sharex=True, \n",
    "                       gridspec_kw={'height_ratios': [4, 1]}, figsize=(3.5, 2.5))\n",
    "ax[0].imshow(matrix, cmap='gray_r', aspect='auto', extent=[-2, 50, 0, 1])\n",
    "libfmp.b.plot_segments(ann, ax=ax[1], time_min=-2, time_max=50)\n",
    "plt.tight_layout()\n",
    "float_box.add_fig(fig)\n",
    "\n",
    "# Vertical alignment\n",
    "fig, ax = plt.subplots(1, 2, sharey=True, figsize=(3.5, 2.5),\n",
    "                       gridspec_kw={'width_ratios': [1, 10]})\n",
    "ax[1].imshow(matrix, cmap='gray_r', aspect='auto', extent=[0, 1, -2, 50])\n",
    "libfmp.b.plot_segments(ann, ax=ax[0], direction='vertical', time_min=-2, time_max=50)\n",
    "plt.tight_layout()\n",
    "float_box.add_fig(fig)\n",
    "\n",
    "float_box.show()"
   ]
  },
  {
   "cell_type": "markdown",
   "metadata": {},
   "source": [
    "One may also apply the alignment in both directions."
   ]
  },
  {
   "cell_type": "code",
   "execution_count": 11,
   "metadata": {},
   "outputs": [
    {
     "data": {
      "image/png": "[encoded data removed]",
      "text/plain": [
       "<Figure size 360x216 with 4 Axes>"
      ]
     },
     "metadata": {
      "needs_background": "light"
     },
     "output_type": "display_data"
    }
   ],
   "source": [
    "fig, ax = plt.subplots(2, 2,  figsize=(5, 3), sharex='col', sharey='row',\n",
    "                       gridspec_kw={'height_ratios': [6, 1], 'width_ratios': [1, 12]})\n",
    "ax[0, 1].imshow(matrix, cmap='gray_r', aspect='auto', extent=[-2, 50, -2, 50])\n",
    "libfmp.b.plot_segments(ann, ax=ax[1, 1], time_min=-2, time_max=50)\n",
    "libfmp.b.plot_segments(ann, ax=ax[0, 0], direction='vertical', time_min=-2, time_max=50)\n",
    "ax[1, 0].axis('off')\n",
    "plt.tight_layout()"
   ]
  },
  {
   "cell_type": "markdown",
   "metadata": {},
   "source": [
    "The function `libfmp.b.plot_segments_overlay` is provided for overlaying segment annotations with image plots. Among others, one can set a parameter (`alpha`) for controlling the transparency of the annotations' visualization and parameters (`print_labels`, `label_ticks`) for removing and placing labels. The next code cell shows some settings."
   ]
  },
  {
   "cell_type": "code",
   "execution_count": 12,
   "metadata": {},
   "outputs": [
    {
     "data": {
      "image/png": "[encoded data removed]",
      "text/plain": [
       "<Figure size 576x180 with 3 Axes>"
      ]
     },
     "metadata": {
      "needs_background": "light"
     },
     "output_type": "display_data"
    }
   ],
   "source": [
    "fig, ax = plt.subplots(1, 3, figsize=(8, 2.5))\n",
    "ax[0].imshow(matrix, cmap='gray_r', aspect='auto', extent=[-2, 50, 0, 1])\n",
    "libfmp.b.plot_segments_overlay(ann, ax=ax[0], time_min=-2, time_max=50, alpha=0.8)\n",
    "\n",
    "ax[1].imshow(matrix, cmap='gray_r', aspect='auto', extent=[-2, 50, 0, 1])\n",
    "libfmp.b.plot_segments_overlay(ann, ax=ax[1], time_min=-2, time_max=50,\n",
    "                               print_labels=False, alpha=0.3)\n",
    "\n",
    "ax[2].imshow(matrix, cmap='gray_r', aspect='auto', extent=[-2, 50, 0, 1])\n",
    "libfmp.b.plot_segments_overlay(ann, ax=ax[2], time_min=-2, time_max=50,\n",
    "                               label_ticks=True, alpha=0.5)\n",
    "plt.tight_layout()"
   ]
  },
  {
   "cell_type": "markdown",
   "metadata": {},
   "source": [
    "One may also overlay several horizontally and vertically aligned annotations. This is demonstrated by the next example."
   ]
  },
  {
   "cell_type": "code",
   "execution_count": 13,
   "metadata": {},
   "outputs": [
    {
     "data": {
      "image/png": "[encoded data removed]",
      "text/plain": [
       "<Figure size 432x288 with 4 Axes>"
      ]
     },
     "metadata": {
      "needs_background": "light"
     },
     "output_type": "display_data"
    }
   ],
   "source": [
    "ann_v = [(0.1, 0.2, 'X'), (0.2, 0.38, 'Y'), (0.4, 0.5, 'X'), (0.6, 0.7, 'X'), (0.7, 0.88, 'Y')]\n",
    "color_ann_v = {'X': [1, 0, 0, 1], 'Y': [1, 1, 0, 1], '': [1, 1, 1, 1]}\n",
    "\n",
    "fig, ax = plt.subplots(2, 2, figsize=(6, 4),\n",
    "                       gridspec_kw={'height_ratios': [8, 1], 'width_ratios': [1, 12]})\n",
    "ax[0,1].imshow(matrix, cmap='gray_r', aspect='auto', extent=[-10, 60, 0, 1])\n",
    "libfmp.b.plot_segments_overlay(ann, ax=ax[0, 1], time_min=-10, time_max=60, \n",
    "                               label_ticks=True, print_labels=False, alpha=0.6)\n",
    "libfmp.b.plot_segments_overlay(ann_v, colors=color_ann_v, ax=ax[0, 1], time_min=0, time_max=1,  \n",
    "                               direction='vertical', label_ticks=True, \n",
    "                               print_labels=False, alpha=0.4)\n",
    "libfmp.b.plot_segments(ann, ax=ax[1, 1], time_min=-10, time_max=60)\n",
    "libfmp.b.plot_segments(ann_v, ax=ax[0, 0], colors=color_ann_v, \n",
    "                       direction='vertical', time_min=0, time_max=1)\n",
    "ax[1,0].axis('off');"
   ]
  },
  {
   "cell_type": "markdown",
   "metadata": {},
   "source": [
    "<div class=\"alert\" style=\"background-color:#F5F5F5; border-color:#C8C8C8\">\n",
    "<strong>Acknowledgment:</strong> This notebook was created by <a href=\"https://www.audiolabs-erlangen.de/fau/assistant/zalkow\">Frank Zalkow</a> and <a href=\"https://www.audiolabs-erlangen.de/fau/professor/mueller\">Meinard Müller</a>.\n",
    "</div>"
   ]
  },
  {
   "cell_type": "markdown",
   "metadata": {},
   "source": [
    "<table style=\"border:none\">\n",
    "<tr style=\"border:none\">\n",
    "    <td style=\"min-width:50px; border:none\" bgcolor=\"white\"><a href=\"../C0/C0.html\"><img src=\"../data/C0_nav.png\" style=\"height:50px\" alt=\"C0\"></a></td>\n",
    "    <td style=\"min-width:50px; border:none\" bgcolor=\"white\"><a href=\"../C1/C1.html\"><img src=\"../data/C1_nav.png\" style=\"height:50px\" alt=\"C1\"></a></td>\n",
    "    <td style=\"min-width:50px; border:none\" bgcolor=\"white\"><a href=\"../C2/C2.html\"><img src=\"../data/C2_nav.png\" style=\"height:50px\" alt=\"C2\"></a></td>\n",
    "    <td style=\"min-width:50px; border:none\" bgcolor=\"white\"><a href=\"../C3/C3.html\"><img src=\"../data/C3_nav.png\" style=\"height:50px\" alt=\"C3\"></a></td>\n",
    "    <td style=\"min-width:50px; border:none\" bgcolor=\"white\"><a href=\"../C4/C4.html\"><img src=\"../data/C4_nav.png\" style=\"height:50px\" alt=\"C4\"></a></td>\n",
    "    <td style=\"min-width:50px; border:none\" bgcolor=\"white\"><a href=\"../C5/C5.html\"><img src=\"../data/C5_nav.png\" style=\"height:50px\" alt=\"C5\"></a></td>\n",
    "    <td style=\"min-width:50px; border:none\" bgcolor=\"white\"><a href=\"../C6/C6.html\"><img src=\"../data/C6_nav.png\" style=\"height:50px\" alt=\"C6\"></a></td>\n",
    "    <td style=\"min-width:50px; border:none\" bgcolor=\"white\"><a href=\"../C7/C7.html\"><img src=\"../data/C7_nav.png\" style=\"height:50px\" alt=\"C7\"></a></td>\n",
    "    <td style=\"min-width:50px; border:none\" bgcolor=\"white\"><a href=\"../C8/C8.html\"><img src=\"../data/C8_nav.png\" style=\"height:50px\" alt=\"C8\"></a></td>\n",
    "</tr>\n",
    "</table>"
   ]
  }
 ],
 "metadata": {
  "kernelspec": {
   "display_name": "Python 3",
   "language": "python",
   "name": "python3"
  },
  "language_info": {
   "codemirror_mode": {
    "name": "ipython",
    "version": 3
   },
   "file_extension": ".py",
   "mimetype": "text/x-python",
   "name": "python",
   "nbconvert_exporter": "python",
   "pygments_lexer": "ipython3",
   "version": "3.7.7"
  }
 },
 "nbformat": 4,
 "nbformat_minor": 2
}
